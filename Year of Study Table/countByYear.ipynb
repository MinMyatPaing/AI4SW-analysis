{
 "cells": [
  {
   "cell_type": "code",
   "execution_count": 3,
   "id": "7c88dab2",
   "metadata": {},
   "outputs": [
    {
     "name": "stdout",
     "output_type": "stream",
     "text": [
      "User year of study table saved as user_year_of_study_table.csv\n"
     ]
    },
    {
     "data": {
      "application/vnd.microsoft.datawrangler.viewer.v0+json": {
       "columns": [
        {
         "name": "index",
         "rawType": "int64",
         "type": "integer"
        },
        {
         "name": "User",
         "rawType": "object",
         "type": "string"
        },
        {
         "name": "Year of Study",
         "rawType": "object",
         "type": "string"
        }
       ],
       "ref": "9f8ecf75-c7f0-4245-a27d-85ae7b1c23e5",
       "rows": [
        [
         "0",
         "User 1",
         "Final Year"
        ],
        [
         "1",
         "User 2",
         "Second Year"
        ],
        [
         "2",
         "User 3",
         "First Year"
        ],
        [
         "3",
         "User 4",
         "First Year"
        ],
        [
         "4",
         "User 5",
         "Second Year"
        ],
        [
         "5",
         "User 6",
         "First Year"
        ],
        [
         "6",
         "User 7",
         "Placement Year"
        ],
        [
         "7",
         "User 8",
         "Second Year"
        ],
        [
         "8",
         "User 9",
         "Final Year"
        ],
        [
         "9",
         "User 10",
         "Second Year"
        ],
        [
         "10",
         "User 11",
         "First Year"
        ],
        [
         "11",
         "User 12",
         "Placement Year"
        ],
        [
         "12",
         "User 13",
         "Final Year"
        ],
        [
         "13",
         "User 14",
         "Second Year"
        ],
        [
         "14",
         "User 15",
         "Second Year"
        ]
       ],
       "shape": {
        "columns": 2,
        "rows": 15
       }
      },
      "text/html": [
       "<div>\n",
       "<style scoped>\n",
       "    .dataframe tbody tr th:only-of-type {\n",
       "        vertical-align: middle;\n",
       "    }\n",
       "\n",
       "    .dataframe tbody tr th {\n",
       "        vertical-align: top;\n",
       "    }\n",
       "\n",
       "    .dataframe thead th {\n",
       "        text-align: right;\n",
       "    }\n",
       "</style>\n",
       "<table border=\"1\" class=\"dataframe\">\n",
       "  <thead>\n",
       "    <tr style=\"text-align: right;\">\n",
       "      <th></th>\n",
       "      <th>User</th>\n",
       "      <th>Year of Study</th>\n",
       "    </tr>\n",
       "  </thead>\n",
       "  <tbody>\n",
       "    <tr>\n",
       "      <th>0</th>\n",
       "      <td>User 1</td>\n",
       "      <td>Final Year</td>\n",
       "    </tr>\n",
       "    <tr>\n",
       "      <th>1</th>\n",
       "      <td>User 2</td>\n",
       "      <td>Second Year</td>\n",
       "    </tr>\n",
       "    <tr>\n",
       "      <th>2</th>\n",
       "      <td>User 3</td>\n",
       "      <td>First Year</td>\n",
       "    </tr>\n",
       "    <tr>\n",
       "      <th>3</th>\n",
       "      <td>User 4</td>\n",
       "      <td>First Year</td>\n",
       "    </tr>\n",
       "    <tr>\n",
       "      <th>4</th>\n",
       "      <td>User 5</td>\n",
       "      <td>Second Year</td>\n",
       "    </tr>\n",
       "    <tr>\n",
       "      <th>5</th>\n",
       "      <td>User 6</td>\n",
       "      <td>First Year</td>\n",
       "    </tr>\n",
       "    <tr>\n",
       "      <th>6</th>\n",
       "      <td>User 7</td>\n",
       "      <td>Placement Year</td>\n",
       "    </tr>\n",
       "    <tr>\n",
       "      <th>7</th>\n",
       "      <td>User 8</td>\n",
       "      <td>Second Year</td>\n",
       "    </tr>\n",
       "    <tr>\n",
       "      <th>8</th>\n",
       "      <td>User 9</td>\n",
       "      <td>Final Year</td>\n",
       "    </tr>\n",
       "    <tr>\n",
       "      <th>9</th>\n",
       "      <td>User 10</td>\n",
       "      <td>Second Year</td>\n",
       "    </tr>\n",
       "    <tr>\n",
       "      <th>10</th>\n",
       "      <td>User 11</td>\n",
       "      <td>First Year</td>\n",
       "    </tr>\n",
       "    <tr>\n",
       "      <th>11</th>\n",
       "      <td>User 12</td>\n",
       "      <td>Placement Year</td>\n",
       "    </tr>\n",
       "    <tr>\n",
       "      <th>12</th>\n",
       "      <td>User 13</td>\n",
       "      <td>Final Year</td>\n",
       "    </tr>\n",
       "    <tr>\n",
       "      <th>13</th>\n",
       "      <td>User 14</td>\n",
       "      <td>Second Year</td>\n",
       "    </tr>\n",
       "    <tr>\n",
       "      <th>14</th>\n",
       "      <td>User 15</td>\n",
       "      <td>Second Year</td>\n",
       "    </tr>\n",
       "  </tbody>\n",
       "</table>\n",
       "</div>"
      ],
      "text/plain": [
       "       User   Year of Study\n",
       "0    User 1      Final Year\n",
       "1    User 2     Second Year\n",
       "2    User 3      First Year\n",
       "3    User 4      First Year\n",
       "4    User 5     Second Year\n",
       "5    User 6      First Year\n",
       "6    User 7  Placement Year\n",
       "7    User 8     Second Year\n",
       "8    User 9      Final Year\n",
       "9   User 10     Second Year\n",
       "10  User 11      First Year\n",
       "11  User 12  Placement Year\n",
       "12  User 13      Final Year\n",
       "13  User 14     Second Year\n",
       "14  User 15     Second Year"
      ]
     },
     "metadata": {},
     "output_type": "display_data"
    },
    {
     "name": "stdout",
     "output_type": "stream",
     "text": [
      "Year of study counts table saved as year_of_study_counts.csv\n"
     ]
    },
    {
     "data": {
      "image/png": "[encoded data removed]",
      "text/plain": [
       "<Figure size 800x600 with 1 Axes>"
      ]
     },
     "metadata": {},
     "output_type": "display_data"
    }
   ],
   "source": [
    "import pandas as pd\n",
    "import matplotlib.pyplot as plt\n",
    "from IPython.display import display\n",
    "\n",
    "# Load the CSV file\n",
    "data = pd.read_csv(\"TSDA8-constant-data.csv\")\n",
    "\n",
    "# Prepare the year of study table, including users with missing year\n",
    "user_table = data[[\"rID\", \"yearOfStudy\"]].copy()\n",
    "user_table[\"User\"] = [f\"User {i+1}\" for i in range(len(user_table))]\n",
    "user_table[\"Year of Study\"] = user_table[\"yearOfStudy\"].fillna(\"(missing)\")\n",
    "user_table = user_table[[\"User\", \"Year of Study\"]]\n",
    "\n",
    "# Save the user table to CSV\n",
    "user_table.to_csv(\"user_year_of_study_table.csv\", index=False)\n",
    "print(\"User year of study table saved as user_year_of_study_table.csv\")\n",
    "\n",
    "display(user_table)\n",
    "\n",
    "# Count the number of people in each year of study (including missing)\n",
    "year_counts = user_table[\"Year of Study\"].value_counts(dropna=False).reset_index()\n",
    "year_counts.columns = [\"Year of Study\", \"Count\"]\n",
    "\n",
    "# Save the year counts table to CSV\n",
    "year_counts.to_csv(\"year_of_study_counts.csv\", index=False)\n",
    "print(\"Year of study counts table saved as year_of_study_counts.csv\")\n",
    "\n",
    "# Display the table plot with enhanced styling\n",
    "fig, ax = plt.subplots(figsize=(8, 6))\n",
    "ax.axis(\"tight\")\n",
    "ax.axis(\"off\")\n",
    "table = ax.table(\n",
    "    cellText=year_counts.values,\n",
    "    colLabels=year_counts.columns,\n",
    "    loc=\"center\",\n",
    "    cellLoc=\"center\",\n",
    "    colColours=[\n",
    "        \"#f2f2f2\",\n",
    "        \"#f2f2f2\",\n",
    "    ],\n",
    ")\n",
    "table.auto_set_font_size(False)\n",
    "table.set_fontsize(12)\n",
    "table.auto_set_column_width(col=list(range(len(year_counts.columns))))\n",
    "plt.title(\"Year of Study and Count (including missing)\", fontsize=14)\n",
    "plt.show()\n",
    "\n",
    "# Note: One user in the constant data file does not have a value for year of study. This is shown as '(missing)' in the table and included in the count."
   ]
  },
  {
   "cell_type": "code",
   "execution_count": 4,
   "id": "016513c9",
   "metadata": {},
   "outputs": [
    {
     "name": "stdout",
     "output_type": "stream",
     "text": [
      "['ac437c68-8004-44e3-b040-d3df290640e7'\n",
      " 'f81216e0-6bd4-4898-a2b4-93221eb6f9f8'\n",
      " '59202f98-62df-4ef3-b635-30c59c67c14a'\n",
      " '854e7492-4d0e-40be-949e-8c6c9481361f'\n",
      " '8900446e-b017-412c-8e30-de0653f2c47e'\n",
      " '6cc7d6ce-bcc4-4ad1-bed4-a56b9a89c322'\n",
      " '367e733a-ee38-4cf8-9a62-d7c27f376dfb'\n",
      " '566ec466-0ac4-4443-88c6-856c08611bb9'\n",
      " '3b91ab91-7c34-4d54-87e5-09348bc27e68'\n",
      " '6e040781-ab14-475e-8e7f-787f8763cc1f'\n",
      " 'ca282e93-a3d2-4ad1-aa0b-07c8a10dca93'\n",
      " '40fadbed-355e-46c6-8e2c-fc3094f7ea3c'\n",
      " '8eb700ae-aa48-45f2-8d34-f75d3a114b7d'\n",
      " 'ddbe2b73-6918-4023-9b1a-25a4274567c8'\n",
      " '493e0cfb-f7a5-4ce8-9c67-d699786ce19b']\n",
      "       User                       Watch Type\n",
      "0    User 1                   No Smart Watch\n",
      "1    User 2                   No Smart Watch\n",
      "2    User 3                   No Smart Watch\n",
      "3    User 4                   No Smart Watch\n",
      "4    User 5                   No Smart Watch\n",
      "5    User 6                   No Smart Watch\n",
      "6    User 7  Apple Watch SE (2nd generation)\n",
      "7    User 8  Apple Watch SE (1st generation)\n",
      "8    User 9                   No Smart Watch\n",
      "9   User 10             Apple Watch Series 7\n",
      "10  User 11                   No Smart Watch\n",
      "11  User 12             Apple Watch Series 9\n",
      "12  User 13  Apple Watch SE (2nd generation)\n",
      "13  User 14                   No Smart Watch\n",
      "14  User 15                   No Smart Watch\n"
     ]
    },
    {
     "data": {
      "application/vnd.microsoft.datawrangler.viewer.v0+json": {
       "columns": [
        {
         "name": "index",
         "rawType": "int64",
         "type": "integer"
        },
        {
         "name": "User",
         "rawType": "object",
         "type": "string"
        },
        {
         "name": "Watch Type",
         "rawType": "object",
         "type": "string"
        }
       ],
       "ref": "fd0fff28-8c2c-45df-b418-5b9afd19b913",
       "rows": [
        [
         "0",
         "User 1",
         "No Smart Watch"
        ],
        [
         "1",
         "User 2",
         "No Smart Watch"
        ],
        [
         "2",
         "User 3",
         "No Smart Watch"
        ],
        [
         "3",
         "User 4",
         "No Smart Watch"
        ],
        [
         "4",
         "User 5",
         "No Smart Watch"
        ],
        [
         "5",
         "User 6",
         "No Smart Watch"
        ],
        [
         "6",
         "User 7",
         "Apple Watch SE (2nd generation)"
        ],
        [
         "7",
         "User 8",
         "Apple Watch SE (1st generation)"
        ],
        [
         "8",
         "User 9",
         "No Smart Watch"
        ],
        [
         "9",
         "User 10",
         "Apple Watch Series 7"
        ],
        [
         "10",
         "User 11",
         "No Smart Watch"
        ],
        [
         "11",
         "User 12",
         "Apple Watch Series 9"
        ],
        [
         "12",
         "User 13",
         "Apple Watch SE (2nd generation)"
        ],
        [
         "13",
         "User 14",
         "No Smart Watch"
        ],
        [
         "14",
         "User 15",
         "No Smart Watch"
        ]
       ],
       "shape": {
        "columns": 2,
        "rows": 15
       }
      },
      "text/html": [
       "<div>\n",
       "<style scoped>\n",
       "    .dataframe tbody tr th:only-of-type {\n",
       "        vertical-align: middle;\n",
       "    }\n",
       "\n",
       "    .dataframe tbody tr th {\n",
       "        vertical-align: top;\n",
       "    }\n",
       "\n",
       "    .dataframe thead th {\n",
       "        text-align: right;\n",
       "    }\n",
       "</style>\n",
       "<table border=\"1\" class=\"dataframe\">\n",
       "  <thead>\n",
       "    <tr style=\"text-align: right;\">\n",
       "      <th></th>\n",
       "      <th>User</th>\n",
       "      <th>Watch Type</th>\n",
       "    </tr>\n",
       "  </thead>\n",
       "  <tbody>\n",
       "    <tr>\n",
       "      <th>0</th>\n",
       "      <td>User 1</td>\n",
       "      <td>No Smart Watch</td>\n",
       "    </tr>\n",
       "    <tr>\n",
       "      <th>1</th>\n",
       "      <td>User 2</td>\n",
       "      <td>No Smart Watch</td>\n",
       "    </tr>\n",
       "    <tr>\n",
       "      <th>2</th>\n",
       "      <td>User 3</td>\n",
       "      <td>No Smart Watch</td>\n",
       "    </tr>\n",
       "    <tr>\n",
       "      <th>3</th>\n",
       "      <td>User 4</td>\n",
       "      <td>No Smart Watch</td>\n",
       "    </tr>\n",
       "    <tr>\n",
       "      <th>4</th>\n",
       "      <td>User 5</td>\n",
       "      <td>No Smart Watch</td>\n",
       "    </tr>\n",
       "    <tr>\n",
       "      <th>5</th>\n",
       "      <td>User 6</td>\n",
       "      <td>No Smart Watch</td>\n",
       "    </tr>\n",
       "    <tr>\n",
       "      <th>6</th>\n",
       "      <td>User 7</td>\n",
       "      <td>Apple Watch SE (2nd generation)</td>\n",
       "    </tr>\n",
       "    <tr>\n",
       "      <th>7</th>\n",
       "      <td>User 8</td>\n",
       "      <td>Apple Watch SE (1st generation)</td>\n",
       "    </tr>\n",
       "    <tr>\n",
       "      <th>8</th>\n",
       "      <td>User 9</td>\n",
       "      <td>No Smart Watch</td>\n",
       "    </tr>\n",
       "    <tr>\n",
       "      <th>9</th>\n",
       "      <td>User 10</td>\n",
       "      <td>Apple Watch Series 7</td>\n",
       "    </tr>\n",
       "    <tr>\n",
       "      <th>10</th>\n",
       "      <td>User 11</td>\n",
       "      <td>No Smart Watch</td>\n",
       "    </tr>\n",
       "    <tr>\n",
       "      <th>11</th>\n",
       "      <td>User 12</td>\n",
       "      <td>Apple Watch Series 9</td>\n",
       "    </tr>\n",
       "    <tr>\n",
       "      <th>12</th>\n",
       "      <td>User 13</td>\n",
       "      <td>Apple Watch SE (2nd generation)</td>\n",
       "    </tr>\n",
       "    <tr>\n",
       "      <th>13</th>\n",
       "      <td>User 14</td>\n",
       "      <td>No Smart Watch</td>\n",
       "    </tr>\n",
       "    <tr>\n",
       "      <th>14</th>\n",
       "      <td>User 15</td>\n",
       "      <td>No Smart Watch</td>\n",
       "    </tr>\n",
       "  </tbody>\n",
       "</table>\n",
       "</div>"
      ],
      "text/plain": [
       "       User                       Watch Type\n",
       "0    User 1                   No Smart Watch\n",
       "1    User 2                   No Smart Watch\n",
       "2    User 3                   No Smart Watch\n",
       "3    User 4                   No Smart Watch\n",
       "4    User 5                   No Smart Watch\n",
       "5    User 6                   No Smart Watch\n",
       "6    User 7  Apple Watch SE (2nd generation)\n",
       "7    User 8  Apple Watch SE (1st generation)\n",
       "8    User 9                   No Smart Watch\n",
       "9   User 10             Apple Watch Series 7\n",
       "10  User 11                   No Smart Watch\n",
       "11  User 12             Apple Watch Series 9\n",
       "12  User 13  Apple Watch SE (2nd generation)\n",
       "13  User 14                   No Smart Watch\n",
       "14  User 15                   No Smart Watch"
      ]
     },
     "metadata": {},
     "output_type": "display_data"
    },
    {
     "name": "stdout",
     "output_type": "stream",
     "text": [
      "User watch type table saved as user_watch_type_table.csv\n"
     ]
    }
   ],
   "source": [
    "# Table of users and their watch type (using 'smartWatchType' column)\n",
    "import numpy as np\n",
    "\n",
    "# Load the constant data CSV if not already loaded\n",
    "constant_data = pd.read_csv(\"TSDA8-constant-data.csv\")\n",
    "\n",
    "# Extract unique users (assuming 'rID' is the user identifier)\n",
    "user_ids = constant_data[\"rID\"].unique()\n",
    "print(user_ids)\n",
    "user_labels = [f\"User {i+1}\" for i in range(len(user_ids))]\n",
    "\n",
    "# Use the 'smartWatchType' column for watch type\n",
    "watch_types = []\n",
    "for uid in user_ids:\n",
    "    types = (\n",
    "        constant_data[constant_data[\"rID\"] == uid][\"smartWatchType\"].dropna().unique()\n",
    "    )\n",
    "    if len(types) == 0 or (\n",
    "        len(types) == 1 and (types[0] == \"\" or str(types[0]).strip().lower() == \"n/a\")\n",
    "    ):\n",
    "        watch_types.append(\"No Smart Watch\")\n",
    "    else:\n",
    "        # If multiple types, join them, else take the first non-empty, non-n/a value\n",
    "        filtered = [t for t in types if t and str(t).strip().lower() != \"n/a\"]\n",
    "        watch_types.append(filtered[0] if filtered else \"n/a\")\n",
    "\n",
    "# Create and display the table\n",
    "user_table = pd.DataFrame({\"User\": user_labels, \"Watch Type\": watch_types})\n",
    "print(user_table)\n",
    "display(user_table)\n",
    "\n",
    "# Save the user table to CSV\n",
    "user_table.to_csv(\"user_watch_type_table.csv\", index=False)\n",
    "print(\"User watch type table saved as user_watch_type_table.csv\")"
   ]
  },
  {
   "cell_type": "code",
   "execution_count": null,
   "id": "ab0b64e6",
   "metadata": {},
   "outputs": [],
   "source": []
  }
 ],
 "metadata": {
  "kernelspec": {
   "display_name": "Python 3",
   "language": "python",
   "name": "python3"
  },
  "language_info": {
   "codemirror_mode": {
    "name": "ipython",
    "version": 3
   },
   "file_extension": ".py",
   "mimetype": "text/x-python",
   "name": "python",
   "nbconvert_exporter": "python",
   "pygments_lexer": "ipython3",
   "version": "3.11.11"
  }
 },
 "nbformat": 4,
 "nbformat_minor": 5
}
